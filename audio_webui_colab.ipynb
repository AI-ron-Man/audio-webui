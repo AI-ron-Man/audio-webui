{
  "nbformat": 4,
  "nbformat_minor": 0,
  "metadata": {
    "colab": {
      "private_outputs": true,
      "provenance": [],
      "gpuType": "T4"
    },
    "kernelspec": {
      "name": "python3",
      "display_name": "Python 3"
    },
    "language_info": {
      "name": "python"
    },
    "accelerator": "GPU"
  },
  "cells": [
    {
      "cell_type": "markdown",
      "source": [
        "# Before running\n",
        "1. click on \"`Runtime`\".\n",
        "2. click on \"`Change runtime type`\".\n",
        "3. set \"`Hardware accelerator`\" to \"`GPU`\".\n",
        "4. click on \"`save`\"."
      ],
      "metadata": {
        "id": "sdEMR6I1E8F3"
      }
    },
    {
      "cell_type": "markdown",
      "source": [
        "# Setup"
      ],
      "metadata": {
        "id": "Y8J9Q6PuJLnz"
      }
    },
    {
      "cell_type": "code",
      "execution_count": null,
      "metadata": {
        "id": "4BNv3IMvDMjX"
      },
      "outputs": [],
      "source": [
        "#@title Setup { display-mode: \"form\" }\n",
        "#@markdown 1. Clones https://github.com/gitmylo/audio-webui/\n",
        "#@markdown 2. Cd's into `audio-webui`\n",
        "#@markdown 3. Fix some google colab default packages\n",
        "#@markdown 4. Installs packages through install.py\n",
        "\n",
        "!git clone https://github.com/gitmylo/audio-webui/\n",
        "%cd audio-webui\n",
        "\n",
        "!pip uninstall tensorflow -y\n",
        "!pip install --upgrade numpy\n",
        "!python install.py --skip-venv"
      ]
    },
    {
      "cell_type": "markdown",
      "source": [
        "# Launching"
      ],
      "metadata": {
        "id": "eIH_DbJfJvmm"
      }
    },
    {
      "cell_type": "code",
      "source": [
        "#@title Default title text { display-mode: \"form\" }\n",
        "username = 'user' #@param {type:\"string\"}\n",
        "#@markdown Default: \"`user`\"<br>\n",
        "#@markdown Sets the username for the webui\n",
        "\n",
        "#@markdown\n",
        "\n",
        "password = 'password' #@param {type:\"string\"}\n",
        "#@markdown Default: \"`pass`\", **please change this**<br>\n",
        "#@markdown Sets the password for the webui\n",
        "\n",
        "#@markdown\n",
        "\n",
        "args = '--bark-cpu-offload --bark-cloning-large-model' #@param {type:\"string\"}\n",
        "#@markdown Default: \"`--bark-cpu-offload --bark-cloning-large-model`\"<br>\n",
        "#@markdown Sets the other args for the webui\n",
        "\n",
        "#@markdown\n",
        "\n",
        "args = f'-sv -si {args} -s -u \"{username}\" -p \"{password}\"'\n",
        "!python main.py $args"
      ],
      "metadata": {
        "id": "LqmO0xhlJxVa"
      },
      "execution_count": null,
      "outputs": []
    }
  ]
}